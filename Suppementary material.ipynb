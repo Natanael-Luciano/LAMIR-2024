{
 "cells": [
  {
   "cell_type": "markdown",
   "metadata": {
    "id": "koBS7z_kh_NJ"
   },
   "source": [
    "## Importing and installing dependencies"
   ]
  },
  {
   "cell_type": "code",
   "execution_count": null,
   "metadata": {
    "colab": {
     "base_uri": "https://localhost:8080/"
    },
    "executionInfo": {
     "elapsed": 7389,
     "status": "ok",
     "timestamp": 1723759740115,
     "user": {
      "displayName": "Natanael Luciano",
      "userId": "06570560626594139851"
     },
     "user_tz": 180
    },
    "id": "dDXxV5C8q-mz",
    "outputId": "53239b7d-e891-4b68-9236-64eac3fc7062"
   },
   "outputs": [],
   "source": [
    "!pip install kapre==0.3.7\n",
    "!pip install tensorflow==2.15.0 # SHOULD BE THIS VERSION!\n",
    "!pip install librosa\n",
    "!pip install soundfile"
   ]
  },
  {
   "cell_type": "code",
   "execution_count": null,
   "metadata": {
    "id": "a7367353"
   },
   "outputs": [],
   "source": [
    "import matplotlib.pyplot as plt\n",
    "import librosa\n",
    "import librosa.display\n",
    "\n",
    "from IPython.display import Audio\n",
    "from ipywidgets import interactive\n",
    "from models import *"
   ]
  },
  {
   "cell_type": "markdown",
   "metadata": {
    "id": "gnftFn13i3y5"
   },
   "source": [
    "# Loading your audio file\n",
    "\n",
    "We provided two audio files for testing, but we encourage the user to use their own to experiment with the models. If the user wants to use other files just change the name of the path on the code below"
   ]
  },
  {
   "cell_type": "code",
   "execution_count": null,
   "metadata": {
    "colab": {
     "base_uri": "https://localhost:8080/"
    },
    "executionInfo": {
     "elapsed": 2792,
     "status": "ok",
     "timestamp": 1723759770415,
     "user": {
      "displayName": "Natanael Luciano",
      "userId": "06570560626594139851"
     },
     "user_tz": 180
    },
    "id": "lrU5vSUCCLuY",
    "outputId": "91fdf3d9-599d-4237-ce74-de821dd3351a"
   },
   "outputs": [],
   "source": [
    "moon, sr = librosa.load(\"moonsonata1.mp3\")\n",
    "Audio(moon, rate = sr)"
   ]
  },
  {
   "cell_type": "code",
   "execution_count": null,
   "metadata": {
    "colab": {
     "background_save": true,
     "output_embedded_package_id": "1-2TePXSF6ZKN-XBrB6BY0c_CxG1HyACm"
    },
    "id": "XznvWmw7OzCq",
    "outputId": "1a19a8ac-ae9c-4c3f-879a-c0916932e4a8"
   },
   "outputs": [],
   "source": [
    "doom, sr = librosa.load(\"doom.mp3\") # 10 second\n",
    "doom_full, sr = librosa.load(\"doom_full.mp3\") # full track\n",
    "Audio(doom_full, rate = sr)"
   ]
  },
  {
   "cell_type": "markdown",
   "metadata": {
    "id": "8KIdcpCgjmdX"
   },
   "source": [
    "# Loading the models\n",
    "\n",
    "Each model was trained using the same hyperparameters for the STFT and to compute the mel-spectrogram. They are listed below.\n",
    "It is important to notice that on the CRNN architectures, the input shape can be diferent than the one listed, since our architecture can handle inputs of any time leght."
   ]
  },
  {
   "cell_type": "code",
   "execution_count": null,
   "metadata": {
    "id": "7158d7ec"
   },
   "outputs": [],
   "source": [
    "sr = 22050\n",
    "input_shape = (220000,1)\n",
    "n_fft = 2048 + 1024\n",
    "n_mels = 1024\n",
    "hop_length = n_fft//4\n",
    "n_feat = 64"
   ]
  },
  {
   "cell_type": "code",
   "execution_count": null,
   "metadata": {},
   "outputs": [],
   "source": [
    "name_dict = {\"blues\":0,'classical':1,'country':2 , 'disco':3 , 'rock':4,\n",
    "        'hiphop': 5 ,  'jazz':6,\n",
    "        'pop':7 , 'reggae':8, \"metal\":9}\n",
    "\n",
    "# just a dictionary with the genre names"
   ]
  },
  {
   "cell_type": "code",
   "execution_count": null,
   "metadata": {
    "colab": {
     "base_uri": "https://localhost:8080/"
    },
    "executionInfo": {
     "elapsed": 1136,
     "status": "ok",
     "timestamp": 1723760649001,
     "user": {
      "displayName": "Natanael Luciano",
      "userId": "06570560626594139851"
     },
     "user_tz": 180
    },
    "id": "IS9_Fnd4I-Hu",
    "outputId": "d17a4d03-19d8-4982-d3c5-33f895024f61"
   },
   "outputs": [],
   "source": [
    "# creating the model v-kernel and the number of parameters in the network\n",
    "model = model_CNN_VK(sr,input_shape,n_fft,n_mels,hop_length,n_feat)"
   ]
  },
  {
   "cell_type": "code",
   "execution_count": null,
   "metadata": {
    "colab": {
     "base_uri": "https://localhost:8080/"
    },
    "executionInfo": {
     "elapsed": 2157,
     "status": "ok",
     "timestamp": 1723759800618,
     "user": {
      "displayName": "Natanael Luciano",
      "userId": "06570560626594139851"
     },
     "user_tz": 180
    },
    "id": "N5PdnvDXQUI9",
    "outputId": "6968c084-c400-4a33-96f7-7cb0b3fa5b4a"
   },
   "outputs": [],
   "source": [
    "# Creating the model BICRNN for inputs with diferent time lenght\n",
    "sr = 22050\n",
    "input_shape = (moon.shape[0],1)\n",
    "input_shape2 = (doom_full.shape[0],1)\n",
    "input_shape3 = (220000,1)\n",
    "n_fft = 2048 + 1024\n",
    "n_mels = 1024\n",
    "hop_length = n_fft//4\n",
    "n_feat = 64\n",
    "model2 = model_BICRNN_VK(sr,input_shape,n_fft,n_mels,hop_length,n_feat)\n",
    "model3 = model_BICRNN_VK(sr,input_shape2,n_fft,n_mels,hop_length,n_feat)\n",
    "model4 = model_BICRNN_VK(sr,input_shape3,n_fft,n_mels,hop_length,n_feat)"
   ]
  },
  {
   "cell_type": "code",
   "execution_count": null,
   "metadata": {
    "id": "fafdc552"
   },
   "outputs": [],
   "source": [
    "# loading the trained models\n",
    "model.load_weights(\"weights_model_v_kernel_10s_ps.h5\", by_name=False)\n",
    "model2.load_weights(\"weights_model_BICRNN_10s_ps.h5\", by_name=False)\n",
    "model3.load_weights(\"weights_model_BICRNN_10s_ps.h5\", by_name=False)\n",
    "model4.load_weights(\"weights_model_BICRNN_10s_ps.h5\", by_name=False)"
   ]
  },
  {
   "cell_type": "code",
   "execution_count": null,
   "metadata": {
    "colab": {
     "base_uri": "https://localhost:8080/"
    },
    "executionInfo": {
     "elapsed": 7675,
     "status": "ok",
     "timestamp": 1723759817319,
     "user": {
      "displayName": "Natanael Luciano",
      "userId": "06570560626594139851"
     },
     "user_tz": 180
    },
    "id": "Es7dkz77-kUe",
    "outputId": "1129324c-9f5c-491e-bd63-89bf2d512cb8"
   },
   "outputs": [],
   "source": [
    "# predicting - CRNN\n",
    "doom_scores = model4.predict(doom[:220000].reshape(1,-1,1))\n",
    "moon_scores = model2.predict(moon.reshape(1,-1,1))\n",
    "doom_full_scores = model3.predict(doom_full.reshape(1,-1,1))\n",
    "\n",
    "print(\"Classifications using BICRNN model \\n\")\n",
    "print(f'Moonlight Sonata (1st movement) was classified as {list(name_dict.keys())[moon_scores.argmax()]}')\n",
    "print(f'Doom Eternal (10s) was classified as {list(name_dict.keys())[doom_scores.argmax()]}')\n",
    "print(f'Doom Eternal (complete) was classified as {list(name_dict.keys())[doom_full_scores.argmax()]}')"
   ]
  },
  {
   "cell_type": "code",
   "execution_count": null,
   "metadata": {},
   "outputs": [],
   "source": [
    "# predicting - CNN\n",
    "doom_scores2 = model.predict(doom[:220000].reshape(1,-1,1))\n",
    "moon_scores2 = model.predict(moon[10000:10000+220000].reshape(1,-1,1))\n",
    "\n",
    "print(\"Classifications using vkernel_L2 model \\n\")\n",
    "print(f'Moonlight Sonata (1st movement) was classified as {list(name_dict.keys())[moon_scores2.argmax()]}')\n",
    "print(f'Doom Eternal (10s) was classified as {list(name_dict.keys())[doom_scores2.argmax()]}')"
   ]
  },
  {
   "cell_type": "markdown",
   "metadata": {
    "id": "Ecmjeev26eK3"
   },
   "source": [
    "## Probability vectors"
   ]
  },
  {
   "cell_type": "markdown",
   "metadata": {},
   "source": [
    "Vector of predicted probabilities returned by BICRNN model for: Moonlight Sonata (1st movement), Doom Eternal (10s) and Doom Eternal (complete), respectively"
   ]
  },
  {
   "cell_type": "code",
   "execution_count": null,
   "metadata": {
    "colab": {
     "base_uri": "https://localhost:8080/",
     "height": 1000
    },
    "executionInfo": {
     "elapsed": 4617,
     "status": "ok",
     "timestamp": 1723759848500,
     "user": {
      "displayName": "Natanael Luciano",
      "userId": "06570560626594139851"
     },
     "user_tz": 180
    },
    "id": "jS2QvwkpdUqF",
    "outputId": "5a5d7f8c-c85e-4b7e-e28c-12c0bc8877fd"
   },
   "outputs": [],
   "source": [
    "labels = list(name_dict.keys())\n",
    "pattern = '/'\n",
    "\n",
    "# Gráfico a)\n",
    "plt.figure(figsize=(5,2))\n",
    "bars = plt.bar(labels, moon_scores[0])\n",
    "for bar in bars:\n",
    "    bar.set_hatch(pattern)  # Aplica padrão de preenchimento\n",
    "plt.xticks(rotation=45, ha='right', fontsize=12)\n",
    "plt.ylabel('Probability', fontsize=12)\n",
    "plt.tick_params(axis='y', labelsize=14)\n",
    "plt.title('a)', fontsize=12)\n",
    "plt.show()\n",
    "\n",
    "# Gráfico b)\n",
    "plt.figure(figsize=(5,2))\n",
    "bars = plt.bar(labels, doom_scores[0])\n",
    "for bar in bars:\n",
    "    bar.set_hatch(pattern)  # Aplica padrão de preenchimento\n",
    "plt.xticks(rotation=45, ha='right', fontsize=12)\n",
    "plt.ylabel('Probability', fontsize=12)\n",
    "plt.tick_params(axis='y', labelsize=14)\n",
    "plt.title('b)', fontsize=12)\n",
    "plt.show()\n",
    "\n",
    "# Gráfico c)\n",
    "plt.figure(figsize=(5,2))\n",
    "bars = plt.bar(labels, doom_full_scores[0])\n",
    "for bar in bars:\n",
    "    bar.set_hatch(pattern)  # Aplica padrão de preenchimento\n",
    "plt.xticks(rotation=45, ha='right', fontsize=12)\n",
    "plt.ylabel('Probability', fontsize=12)\n",
    "plt.tick_params(axis='y', labelsize=14)\n",
    "plt.title('c)', fontsize=12)\n",
    "plt.show()"
   ]
  },
  {
   "cell_type": "markdown",
   "metadata": {},
   "source": [
    "Vector of predicted probabilities returned by CNN model for: Moonlight Sonata (1st movement) and Doom Eternal (10s), respectively"
   ]
  },
  {
   "cell_type": "code",
   "execution_count": null,
   "metadata": {},
   "outputs": [],
   "source": [
    "labels = list(name_dict.keys())\n",
    "pattern = '/'\n",
    "\n",
    "# Gráfico a)\n",
    "plt.figure(figsize=(5,2))\n",
    "bars = plt.bar(labels, moon_scores2[0])\n",
    "for bar in bars:\n",
    "    bar.set_hatch(pattern)  # Aplica padrão de preenchimento\n",
    "plt.xticks(rotation=45, ha='right', fontsize=12)\n",
    "plt.ylabel('Probability', fontsize=12)\n",
    "plt.tick_params(axis='y', labelsize=14)\n",
    "plt.title('a)', fontsize=12)\n",
    "plt.show()\n",
    "\n",
    "# Gráfico b)\n",
    "plt.figure(figsize=(5,2))\n",
    "bars = plt.bar(labels, doom_scores2[0])\n",
    "for bar in bars:\n",
    "    bar.set_hatch(pattern)  # Aplica padrão de preenchimento\n",
    "plt.xticks(rotation=45, ha='right', fontsize=12)\n",
    "plt.ylabel('Probability', fontsize=12)\n",
    "plt.tick_params(axis='y', labelsize=14)\n",
    "plt.title('b)', fontsize=12)\n",
    "plt.show()"
   ]
  },
  {
   "cell_type": "markdown",
   "metadata": {},
   "source": [
    "Animation using both models to classify using a sliding window of 10s. For this we choose the Doom Eternal (full) audio track"
   ]
  },
  {
   "cell_type": "code",
   "execution_count": null,
   "metadata": {},
   "outputs": [],
   "source": [
    "pred_vec_vkernel = []\n",
    "pred_vec_bicrnn = []\n",
    "for i in range(50):\n",
    "    pred_vec_vkernel.append(model.predict(doom_full[ i*110000 : (i+2)*110000].reshape(1,-1,1)))\n",
    "    pred_vec_bicrnn.append(model4.predict(doom_full[ i*110000 : (i+2)*110000].reshape(1,-1,1)))"
   ]
  },
  {
   "cell_type": "code",
   "execution_count": null,
   "metadata": {},
   "outputs": [],
   "source": [
    "def plot_graphs(i):\n",
    "    labels = list(name_dict.keys())\n",
    "    pattern = '/'\n",
    "\n",
    "    # Gráfico a)\n",
    "    plt.figure(figsize=(6,2))\n",
    "    bars = plt.bar(labels, pred_vec_vkernel[i][0])\n",
    "    for bar in bars:\n",
    "        bar.set_hatch(pattern)  # Aplica padrão de preenchimento\n",
    "    plt.xticks(rotation=45, ha='right', fontsize=15)\n",
    "    plt.ylabel('Probability', fontsize=20)\n",
    "    plt.tick_params(axis='y', labelsize=14)\n",
    "    plt.title('v_kernel_ps', fontsize=20)\n",
    "    plt.ylim(0,1)\n",
    "    plt.text(x = 7, y = 1.2, s = f'Time window: {i*5//60}m:{(i*5)%60}s to {(i+2)*5//60}m:{((i+2)*5)%60}s', fontsize = 14)\n",
    "    plt.show()\n",
    "\n",
    "    # Gráfico b)\n",
    "    plt.figure(figsize=(6,2))\n",
    "    bars = plt.bar(labels, pred_vec_bicrnn[i][0])\n",
    "    for bar in bars:\n",
    "        bar.set_hatch(pattern)  # Aplica padrão de preenchimento\n",
    "    plt.xticks(rotation=45, ha='right', fontsize=15)\n",
    "    plt.ylabel('Probability', fontsize=20)\n",
    "    plt.tick_params(axis='y', labelsize=14)\n",
    "    plt.title('BICRNN_ps', fontsize=20)\n",
    "    plt.ylim(0,1)\n",
    "    plt.show()\n",
    "\n",
    "slider = interactive(plot_graphs, i=(0, 48))\n",
    "\n",
    "display(slider)\n"
   ]
  }
 ],
 "metadata": {
  "accelerator": "GPU",
  "colab": {
   "authorship_tag": "ABX9TyNzrh/KXeeUVyWR03br/mxh",
   "machine_shape": "hm",
   "mount_file_id": "1VIMFUoMwXm9IRXndXIr4wWRIKmB_ZEdI",
   "provenance": []
  },
  "kernelspec": {
   "display_name": "Python 3",
   "name": "python3"
  },
  "language_info": {
   "codemirror_mode": {
    "name": "ipython",
    "version": 3
   },
   "file_extension": ".py",
   "mimetype": "text/x-python",
   "name": "python",
   "nbconvert_exporter": "python",
   "pygments_lexer": "ipython3",
   "version": "3.11.7"
  }
 },
 "nbformat": 4,
 "nbformat_minor": 0
}
